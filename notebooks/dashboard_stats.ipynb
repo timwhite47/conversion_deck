{
 "cells": [
  {
   "cell_type": "code",
   "execution_count": 2,
   "metadata": {
    "collapsed": true
   },
   "outputs": [],
   "source": [
    "import os\n",
    "import cPickle as pickle\n",
    "import sys\n",
    "module_path = os.path.abspath(os.path.join('..'))\n",
    "if module_path not in sys.path:\n",
    "    sys.path.append(module_path)"
   ]
  },
  {
   "cell_type": "code",
   "execution_count": 7,
   "metadata": {
    "collapsed": false
   },
   "outputs": [],
   "source": [
    "import pandas as pd\n",
    "from app import db"
   ]
  },
  {
   "cell_type": "code",
   "execution_count": 20,
   "metadata": {
    "collapsed": false
   },
   "outputs": [
    {
     "data": {
      "text/plain": [
       "{u'churn_likely': 18,\n",
       " u'churn_possible': 72,\n",
       " u'churn_unlikely': 1905,\n",
       " u'likely_conversion': 1198,\n",
       " u'possible_conversion': 2279,\n",
       " u'unlikely_conversion': 7}"
      ]
     },
     "execution_count": 20,
     "metadata": {},
     "output_type": "execute_result"
    }
   ],
   "source": [
    "CHURN_STATS_QUERY = \"\"\"\n",
    "SELECT DISTINCT \n",
    "    count(likely.distinct_id) AS churn_likely,\n",
    "    count(possible.distinct_id) AS churn_possible,\n",
    "    count(unlikely.distinct_id) AS churn_unlikely\n",
    "FROM churns\n",
    "LEFT JOIN (\n",
    "    SELECT distinct_id\n",
    "    FROM churns \n",
    "    WHERE churn_proba > 0.85\n",
    ") AS likely\n",
    "ON churns.distinct_id = likely.distinct_id\n",
    "\n",
    "LEFT JOIN (\n",
    "    SELECT distinct_id\n",
    "    FROM churns \n",
    "    WHERE churn_proba < 0.85 AND churn_proba > 0.5\n",
    ") AS possible\n",
    "ON churns.distinct_id = possible.distinct_id\n",
    "\n",
    "LEFT JOIN (\n",
    "    SELECT distinct_id\n",
    "    FROM churns\n",
    "    WHERE churn_proba < 0.5\n",
    ") AS unlikely\n",
    "ON unlikely.distinct_id = churns.distinct_id\n",
    "\"\"\"\n",
    "\n",
    "CONVERSION_STATS_QUERY = \"\"\"\n",
    "SELECT DISTINCT \n",
    "    count(likely.distinct_id) AS likely_conversion,\n",
    "    count(possible.distinct_id) AS possible_conversion,\n",
    "    count(unlikely.distinct_id) AS unlikely_conversion\n",
    "FROM conversions\n",
    "LEFT JOIN (\n",
    "    SELECT distinct_id\n",
    "    FROM conversions\n",
    "    WHERE conversion_proba > 0.85\n",
    ") AS likely\n",
    "ON conversions.distinct_id = likely.distinct_id\n",
    "\n",
    "LEFT JOIN (\n",
    "    SELECT distinct_id\n",
    "    FROM conversions \n",
    "    WHERE conversion_proba < 0.85 AND conversion_proba > 0.5\n",
    ") AS possible\n",
    "ON conversions.distinct_id = possible.distinct_id\n",
    "\n",
    "LEFT JOIN (\n",
    "    SELECT distinct_id\n",
    "    FROM churns\n",
    "    WHERE churn_proba < 0.5\n",
    ") AS unlikely\n",
    "ON conversions.distinct_id = unlikely.distinct_id\n",
    "\"\"\"\n",
    "\n",
    "conversion_stats = pd.read_sql_query(CONVERSION_STATS_QUERY, db.engine)\n",
    "churn_stats = pd.read_sql_query(CHURN_STATS_QUERY, db.engine)\n",
    "\n",
    "stats_df = pd.concat([conversion_stats, churn_stats], axis=1)\n",
    "\n",
    "dict(zip(stats_df.keys(), stats_df.values[0]))"
   ]
  }
 ],
 "metadata": {
  "kernelspec": {
   "display_name": "Python 2",
   "language": "python",
   "name": "python2"
  },
  "language_info": {
   "codemirror_mode": {
    "name": "ipython",
    "version": 2
   },
   "file_extension": ".py",
   "mimetype": "text/x-python",
   "name": "python",
   "nbconvert_exporter": "python",
   "pygments_lexer": "ipython2",
   "version": "2.7.13"
  }
 },
 "nbformat": 4,
 "nbformat_minor": 2
}
