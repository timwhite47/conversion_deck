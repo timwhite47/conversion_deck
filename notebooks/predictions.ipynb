{
 "cells": [
  {
   "cell_type": "code",
   "execution_count": 1,
   "metadata": {
    "collapsed": true
   },
   "outputs": [],
   "source": [
    "import os\n",
    "import sys\n",
    "module_path = os.path.abspath(os.path.join('..'))\n",
    "if module_path not in sys.path:\n",
    "    sys.path.append(module_path)"
   ]
  },
  {
   "cell_type": "code",
   "execution_count": 51,
   "metadata": {
    "collapsed": false
   },
   "outputs": [],
   "source": [
    "import pandas as pd\n",
    "from src.database.sql import psql_connection\n",
    "conn = psql_connection()"
   ]
  },
  {
   "cell_type": "code",
   "execution_count": 14,
   "metadata": {
    "collapsed": false
   },
   "outputs": [],
   "source": [
    "import cPickle as pickle\n",
    "from src.modeling.churn import ChurnClassifier\n",
    "\n",
    "model_f = open('../data/churn_model.pkl')\n",
    "clf = pickle.load(model_f)"
   ]
  },
  {
   "cell_type": "code",
   "execution_count": 5,
   "metadata": {
    "collapsed": false
   },
   "outputs": [],
   "source": [
    "query = \"\"\"\n",
    "SELECT \n",
    "    u.distinct_id, \n",
    "    e.type, \n",
    "    count(e.event_id), \n",
    "    extract(DAY FROM CURRENT_TIMESTAMP - converted_at) AS account_age,\n",
    "    u.vertical,\n",
    "    u.camp_deliveries\n",
    "    \n",
    "FROM users AS u \n",
    "\n",
    "INNER JOIN customers AS c\n",
    "ON c.email = u.email\n",
    "\n",
    "INNER JOIN subscriptions AS s\n",
    "ON s.customer_id = c.identifier\n",
    "\n",
    "LEFT JOIN events AS e\n",
    "ON e.distinct_id = u.distinct_id\n",
    "\n",
    "INNER JOIN (\n",
    "    SELECT email, MAX(pe.time) AS converted_at\n",
    "    FROM customers AS c\n",
    "    LEFT JOIN payment_events AS pe\n",
    "    ON pe.customer_id = c.identifier\n",
    "    WHERE pe.type = 'customer.subscription.created'\n",
    "    GROUP BY c.email\n",
    ") AS converted\n",
    "ON u.email = converted.email\n",
    "\n",
    "WHERE e.type IS NOT NULL\n",
    "GROUP BY u.distinct_id, e.type, converted_at, u.vertical, u.camp_deliveries;\n",
    "\"\"\"\n",
    "query_df = pd.read_sql_query(query, conn)"
   ]
  },
  {
   "cell_type": "code",
   "execution_count": 6,
   "metadata": {
    "collapsed": true
   },
   "outputs": [],
   "source": [
    "from src.modeling.churn import *"
   ]
  },
  {
   "cell_type": "code",
   "execution_count": 7,
   "metadata": {
    "collapsed": false
   },
   "outputs": [
    {
     "data": {
      "text/plain": [
       "count    32407.000000\n",
       "mean         0.317493\n",
       "std          0.465508\n",
       "min          0.000000\n",
       "25%          0.000000\n",
       "50%          0.000000\n",
       "75%          1.000000\n",
       "max          1.000000\n",
       "Name: vertical_educator, dtype: float64"
      ]
     },
     "execution_count": 7,
     "metadata": {},
     "output_type": "execute_result"
    }
   ],
   "source": [
    "# query_df.pivot?\n",
    "ages = query_df[['distinct_id', 'account_age', 'camp_deliveries']]\n",
    "\n",
    "vertical_dummies = pd.get_dummies(query_df['vertical'], prefix='vertical')\n",
    "vertical_dummies\n",
    "ages = pd.concat([ages, vertical_dummies], axis=1).set_index('distinct_id')\n",
    "\n",
    "events = query_df.pivot(index='distinct_id', columns='type', values='count')\n",
    "df = events.join(ages).fillna(0)\n",
    "df['vertical_educator'].describe()"
   ]
  },
  {
   "cell_type": "code",
   "execution_count": 13,
   "metadata": {
    "collapsed": false
   },
   "outputs": [
    {
     "data": {
      "text/plain": [
       "58"
      ]
     },
     "execution_count": 13,
     "metadata": {},
     "output_type": "execute_result"
    }
   ],
   "source": [
    "len(FIELDS)"
   ]
  },
  {
   "cell_type": "code",
   "execution_count": 21,
   "metadata": {
    "collapsed": false
   },
   "outputs": [
    {
     "data": {
      "text/plain": [
       "1"
      ]
     },
     "execution_count": 21,
     "metadata": {},
     "output_type": "execute_result"
    }
   ],
   "source": [
    "np.where(clf._clf.classes_ == True)[0][0]"
   ]
  },
  {
   "cell_type": "code",
   "execution_count": 34,
   "metadata": {
    "collapsed": false
   },
   "outputs": [],
   "source": [
    "df['churn_proba'] = map(lambda prediction: prediction[1], clf.predict(df[FIELDS].values))"
   ]
  },
  {
   "cell_type": "code",
   "execution_count": 35,
   "metadata": {
    "collapsed": false
   },
   "outputs": [
    {
     "data": {
      "text/plain": [
       "count    32407.000000\n",
       "mean         0.142366\n",
       "std          0.150860\n",
       "min          0.004819\n",
       "25%          0.045368\n",
       "50%          0.092324\n",
       "75%          0.179927\n",
       "max          0.959053\n",
       "Name: churn_proba, dtype: float64"
      ]
     },
     "execution_count": 35,
     "metadata": {},
     "output_type": "execute_result"
    }
   ],
   "source": [
    "df['churn_proba'].describe()"
   ]
  },
  {
   "cell_type": "code",
   "execution_count": 49,
   "metadata": {
    "collapsed": false
   },
   "outputs": [
    {
     "data": {
      "text/html": [
       "<div>\n",
       "<style>\n",
       "    .dataframe thead tr:only-child th {\n",
       "        text-align: right;\n",
       "    }\n",
       "\n",
       "    .dataframe thead th {\n",
       "        text-align: left;\n",
       "    }\n",
       "\n",
       "    .dataframe tbody tr th {\n",
       "        vertical-align: top;\n",
       "    }\n",
       "</style>\n",
       "<table border=\"1\" class=\"dataframe\">\n",
       "  <thead>\n",
       "    <tr style=\"text-align: right;\">\n",
       "      <th></th>\n",
       "      <th>signin</th>\n",
       "      <th>Export</th>\n",
       "      <th>account_age</th>\n",
       "      <th>churn_proba</th>\n",
       "    </tr>\n",
       "  </thead>\n",
       "  <tbody>\n",
       "    <tr>\n",
       "      <th>count</th>\n",
       "      <td>176.000000</td>\n",
       "      <td>176.000000</td>\n",
       "      <td>176.000000</td>\n",
       "      <td>176.000000</td>\n",
       "    </tr>\n",
       "    <tr>\n",
       "      <th>mean</th>\n",
       "      <td>0.926136</td>\n",
       "      <td>0.977273</td>\n",
       "      <td>14.727273</td>\n",
       "      <td>0.918303</td>\n",
       "    </tr>\n",
       "    <tr>\n",
       "      <th>std</th>\n",
       "      <td>1.214295</td>\n",
       "      <td>1.213988</td>\n",
       "      <td>12.523557</td>\n",
       "      <td>0.026777</td>\n",
       "    </tr>\n",
       "    <tr>\n",
       "      <th>min</th>\n",
       "      <td>0.000000</td>\n",
       "      <td>0.000000</td>\n",
       "      <td>7.000000</td>\n",
       "      <td>0.850278</td>\n",
       "    </tr>\n",
       "    <tr>\n",
       "      <th>25%</th>\n",
       "      <td>0.000000</td>\n",
       "      <td>0.000000</td>\n",
       "      <td>9.000000</td>\n",
       "      <td>0.888364</td>\n",
       "    </tr>\n",
       "    <tr>\n",
       "      <th>50%</th>\n",
       "      <td>1.000000</td>\n",
       "      <td>0.000000</td>\n",
       "      <td>11.000000</td>\n",
       "      <td>0.918830</td>\n",
       "    </tr>\n",
       "    <tr>\n",
       "      <th>75%</th>\n",
       "      <td>1.000000</td>\n",
       "      <td>2.000000</td>\n",
       "      <td>14.000000</td>\n",
       "      <td>0.943180</td>\n",
       "    </tr>\n",
       "    <tr>\n",
       "      <th>max</th>\n",
       "      <td>4.000000</td>\n",
       "      <td>3.000000</td>\n",
       "      <td>83.000000</td>\n",
       "      <td>0.959053</td>\n",
       "    </tr>\n",
       "  </tbody>\n",
       "</table>\n",
       "</div>"
      ],
      "text/plain": [
       "           signin      Export  account_age  churn_proba\n",
       "count  176.000000  176.000000   176.000000   176.000000\n",
       "mean     0.926136    0.977273    14.727273     0.918303\n",
       "std      1.214295    1.213988    12.523557     0.026777\n",
       "min      0.000000    0.000000     7.000000     0.850278\n",
       "25%      0.000000    0.000000     9.000000     0.888364\n",
       "50%      1.000000    0.000000    11.000000     0.918830\n",
       "75%      1.000000    2.000000    14.000000     0.943180\n",
       "max      4.000000    3.000000    83.000000     0.959053"
      ]
     },
     "execution_count": 49,
     "metadata": {},
     "output_type": "execute_result"
    }
   ],
   "source": [
    "df[df['churn_proba'] > 0.85][['signin', 'Export', 'account_age', 'churn_proba']].describe()"
   ]
  },
  {
   "cell_type": "code",
   "execution_count": 52,
   "metadata": {
    "collapsed": false
   },
   "outputs": [],
   "source": [
    "query = \"\"\"\n",
    "SELECT u.distinct_id, e.type, count(e.event_id)\n",
    "FROM users AS u\n",
    "\n",
    "LEFT JOIN events AS e\n",
    "ON e.distinct_id = u.distinct_id\n",
    "\n",
    "WHERE \n",
    "    u.distinct_id NOT IN (\n",
    "        SELECT u.distinct_id \n",
    "        FROM subscriptions AS s\n",
    "        INNER JOIN customers AS c\n",
    "        ON c.identifier = s.customer_id\n",
    "        INNER JOIN users AS u\n",
    "        ON u.email = c.email\n",
    "    ) AND\n",
    "    u.subscription_type = 'basic' AND\n",
    "    u.email IS NOT NULL AND\n",
    "    e.type IS NOT NULL\n",
    "    \n",
    "GROUP BY u.distinct_id, e.type, u.email, u.vertical\n",
    "\"\"\"\n",
    "\n",
    "conversion_query_df = pd.read_sql_query(query, conn)"
   ]
  },
  {
   "cell_type": "code",
   "execution_count": 56,
   "metadata": {
    "collapsed": false
   },
   "outputs": [],
   "source": [
    "conversion_df = (\n",
    "    conversion_query_df\n",
    "    .pivot(index='distinct_id', columns='type', values='count')\n",
    "    .fillna(0)\n",
    ")"
   ]
  },
  {
   "cell_type": "code",
   "execution_count": 58,
   "metadata": {
    "collapsed": false
   },
   "outputs": [],
   "source": [
    "from src.modeling.conversion import ConversionClassifier\n",
    "\n",
    "model_f = open('../data/conversion_model.pkl')\n",
    "clf = pickle.load(model_f)"
   ]
  },
  {
   "cell_type": "code",
   "execution_count": 66,
   "metadata": {
    "collapsed": false
   },
   "outputs": [
    {
     "data": {
      "text/html": [
       "<div>\n",
       "<style>\n",
       "    .dataframe thead tr:only-child th {\n",
       "        text-align: right;\n",
       "    }\n",
       "\n",
       "    .dataframe thead th {\n",
       "        text-align: left;\n",
       "    }\n",
       "\n",
       "    .dataframe tbody tr th {\n",
       "        vertical-align: top;\n",
       "    }\n",
       "</style>\n",
       "<table border=\"1\" class=\"dataframe\">\n",
       "  <thead>\n",
       "    <tr style=\"text-align: right;\">\n",
       "      <th>type</th>\n",
       "      <th>App Became Active</th>\n",
       "      <th>Click Button</th>\n",
       "      <th>Click Link</th>\n",
       "      <th>Client error</th>\n",
       "      <th>Countdown Pro Button</th>\n",
       "      <th>Deck Created</th>\n",
       "      <th>Display Limit Modal</th>\n",
       "      <th>Display Limit Notification</th>\n",
       "      <th>Display Video Editor Modal</th>\n",
       "      <th>Display Welcome Countdown</th>\n",
       "      <th>...</th>\n",
       "      <th>Successfully completed pro upgrade</th>\n",
       "      <th>Validation failed</th>\n",
       "      <th>View player page</th>\n",
       "      <th>Zuru Upgrade Edu Button</th>\n",
       "      <th>Zuru Upgrade Pro Button</th>\n",
       "      <th>cancel</th>\n",
       "      <th>signin</th>\n",
       "      <th>signup</th>\n",
       "      <th>upgrade</th>\n",
       "      <th>conversion_proba</th>\n",
       "    </tr>\n",
       "    <tr>\n",
       "      <th>distinct_id</th>\n",
       "      <th></th>\n",
       "      <th></th>\n",
       "      <th></th>\n",
       "      <th></th>\n",
       "      <th></th>\n",
       "      <th></th>\n",
       "      <th></th>\n",
       "      <th></th>\n",
       "      <th></th>\n",
       "      <th></th>\n",
       "      <th></th>\n",
       "      <th></th>\n",
       "      <th></th>\n",
       "      <th></th>\n",
       "      <th></th>\n",
       "      <th></th>\n",
       "      <th></th>\n",
       "      <th></th>\n",
       "      <th></th>\n",
       "      <th></th>\n",
       "      <th></th>\n",
       "    </tr>\n",
       "  </thead>\n",
       "  <tbody>\n",
       "    <tr>\n",
       "      <th>005cINJekv</th>\n",
       "      <td>0.0</td>\n",
       "      <td>0.0</td>\n",
       "      <td>0.0</td>\n",
       "      <td>0.0</td>\n",
       "      <td>0.0</td>\n",
       "      <td>1.0</td>\n",
       "      <td>0.0</td>\n",
       "      <td>4.0</td>\n",
       "      <td>0.0</td>\n",
       "      <td>0.0</td>\n",
       "      <td>...</td>\n",
       "      <td>0.0</td>\n",
       "      <td>0.0</td>\n",
       "      <td>0.0</td>\n",
       "      <td>0.0</td>\n",
       "      <td>0.0</td>\n",
       "      <td>0.0</td>\n",
       "      <td>3.0</td>\n",
       "      <td>1.0</td>\n",
       "      <td>0.0</td>\n",
       "      <td>0.066620</td>\n",
       "    </tr>\n",
       "    <tr>\n",
       "      <th>005z3MNNpS</th>\n",
       "      <td>0.0</td>\n",
       "      <td>0.0</td>\n",
       "      <td>7.0</td>\n",
       "      <td>0.0</td>\n",
       "      <td>0.0</td>\n",
       "      <td>3.0</td>\n",
       "      <td>0.0</td>\n",
       "      <td>15.0</td>\n",
       "      <td>0.0</td>\n",
       "      <td>0.0</td>\n",
       "      <td>...</td>\n",
       "      <td>0.0</td>\n",
       "      <td>0.0</td>\n",
       "      <td>0.0</td>\n",
       "      <td>0.0</td>\n",
       "      <td>0.0</td>\n",
       "      <td>0.0</td>\n",
       "      <td>7.0</td>\n",
       "      <td>1.0</td>\n",
       "      <td>0.0</td>\n",
       "      <td>0.097114</td>\n",
       "    </tr>\n",
       "    <tr>\n",
       "      <th>007GNOwkAT</th>\n",
       "      <td>1.0</td>\n",
       "      <td>0.0</td>\n",
       "      <td>0.0</td>\n",
       "      <td>0.0</td>\n",
       "      <td>0.0</td>\n",
       "      <td>0.0</td>\n",
       "      <td>0.0</td>\n",
       "      <td>0.0</td>\n",
       "      <td>0.0</td>\n",
       "      <td>0.0</td>\n",
       "      <td>...</td>\n",
       "      <td>0.0</td>\n",
       "      <td>0.0</td>\n",
       "      <td>0.0</td>\n",
       "      <td>0.0</td>\n",
       "      <td>0.0</td>\n",
       "      <td>0.0</td>\n",
       "      <td>0.0</td>\n",
       "      <td>1.0</td>\n",
       "      <td>0.0</td>\n",
       "      <td>0.050013</td>\n",
       "    </tr>\n",
       "    <tr>\n",
       "      <th>00AeBeXbE9</th>\n",
       "      <td>0.0</td>\n",
       "      <td>0.0</td>\n",
       "      <td>0.0</td>\n",
       "      <td>0.0</td>\n",
       "      <td>0.0</td>\n",
       "      <td>1.0</td>\n",
       "      <td>0.0</td>\n",
       "      <td>1.0</td>\n",
       "      <td>0.0</td>\n",
       "      <td>0.0</td>\n",
       "      <td>...</td>\n",
       "      <td>0.0</td>\n",
       "      <td>0.0</td>\n",
       "      <td>0.0</td>\n",
       "      <td>0.0</td>\n",
       "      <td>0.0</td>\n",
       "      <td>0.0</td>\n",
       "      <td>0.0</td>\n",
       "      <td>1.0</td>\n",
       "      <td>0.0</td>\n",
       "      <td>0.081348</td>\n",
       "    </tr>\n",
       "    <tr>\n",
       "      <th>00BdMY6CNc</th>\n",
       "      <td>1.0</td>\n",
       "      <td>0.0</td>\n",
       "      <td>0.0</td>\n",
       "      <td>0.0</td>\n",
       "      <td>0.0</td>\n",
       "      <td>2.0</td>\n",
       "      <td>0.0</td>\n",
       "      <td>0.0</td>\n",
       "      <td>0.0</td>\n",
       "      <td>0.0</td>\n",
       "      <td>...</td>\n",
       "      <td>0.0</td>\n",
       "      <td>0.0</td>\n",
       "      <td>0.0</td>\n",
       "      <td>0.0</td>\n",
       "      <td>0.0</td>\n",
       "      <td>0.0</td>\n",
       "      <td>1.0</td>\n",
       "      <td>0.0</td>\n",
       "      <td>0.0</td>\n",
       "      <td>0.060126</td>\n",
       "    </tr>\n",
       "  </tbody>\n",
       "</table>\n",
       "<p>5 rows × 56 columns</p>\n",
       "</div>"
      ],
      "text/plain": [
       "type         App Became Active  Click Button  Click Link  Client error  \\\n",
       "distinct_id                                                              \n",
       "005cINJekv                 0.0           0.0         0.0           0.0   \n",
       "005z3MNNpS                 0.0           0.0         7.0           0.0   \n",
       "007GNOwkAT                 1.0           0.0         0.0           0.0   \n",
       "00AeBeXbE9                 0.0           0.0         0.0           0.0   \n",
       "00BdMY6CNc                 1.0           0.0         0.0           0.0   \n",
       "\n",
       "type         Countdown Pro Button  Deck Created  Display Limit Modal  \\\n",
       "distinct_id                                                            \n",
       "005cINJekv                    0.0           1.0                  0.0   \n",
       "005z3MNNpS                    0.0           3.0                  0.0   \n",
       "007GNOwkAT                    0.0           0.0                  0.0   \n",
       "00AeBeXbE9                    0.0           1.0                  0.0   \n",
       "00BdMY6CNc                    0.0           2.0                  0.0   \n",
       "\n",
       "type         Display Limit Notification  Display Video Editor Modal  \\\n",
       "distinct_id                                                           \n",
       "005cINJekv                          4.0                         0.0   \n",
       "005z3MNNpS                         15.0                         0.0   \n",
       "007GNOwkAT                          0.0                         0.0   \n",
       "00AeBeXbE9                          1.0                         0.0   \n",
       "00BdMY6CNc                          0.0                         0.0   \n",
       "\n",
       "type         Display Welcome Countdown        ...         \\\n",
       "distinct_id                                   ...          \n",
       "005cINJekv                         0.0        ...          \n",
       "005z3MNNpS                         0.0        ...          \n",
       "007GNOwkAT                         0.0        ...          \n",
       "00AeBeXbE9                         0.0        ...          \n",
       "00BdMY6CNc                         0.0        ...          \n",
       "\n",
       "type         Successfully completed pro upgrade  Validation failed  \\\n",
       "distinct_id                                                          \n",
       "005cINJekv                                  0.0                0.0   \n",
       "005z3MNNpS                                  0.0                0.0   \n",
       "007GNOwkAT                                  0.0                0.0   \n",
       "00AeBeXbE9                                  0.0                0.0   \n",
       "00BdMY6CNc                                  0.0                0.0   \n",
       "\n",
       "type         View player page  Zuru Upgrade Edu Button  \\\n",
       "distinct_id                                              \n",
       "005cINJekv                0.0                      0.0   \n",
       "005z3MNNpS                0.0                      0.0   \n",
       "007GNOwkAT                0.0                      0.0   \n",
       "00AeBeXbE9                0.0                      0.0   \n",
       "00BdMY6CNc                0.0                      0.0   \n",
       "\n",
       "type         Zuru Upgrade Pro Button  cancel  signin  signup  upgrade  \\\n",
       "distinct_id                                                             \n",
       "005cINJekv                       0.0     0.0     3.0     1.0      0.0   \n",
       "005z3MNNpS                       0.0     0.0     7.0     1.0      0.0   \n",
       "007GNOwkAT                       0.0     0.0     0.0     1.0      0.0   \n",
       "00AeBeXbE9                       0.0     0.0     0.0     1.0      0.0   \n",
       "00BdMY6CNc                       0.0     0.0     1.0     0.0      0.0   \n",
       "\n",
       "type         conversion_proba  \n",
       "distinct_id                    \n",
       "005cINJekv           0.066620  \n",
       "005z3MNNpS           0.097114  \n",
       "007GNOwkAT           0.050013  \n",
       "00AeBeXbE9           0.081348  \n",
       "00BdMY6CNc           0.060126  \n",
       "\n",
       "[5 rows x 56 columns]"
      ]
     },
     "execution_count": 66,
     "metadata": {},
     "output_type": "execute_result"
    }
   ],
   "source": [
    "from src.modeling.conversion import FEATURE_COLUMNS\n",
    "X = conversion_df[FEATURE_COLUMNS].values\n",
    "probas = clf._clf.predict_proba(X)\n",
    "conversion_df['conversion_proba'] = map(lambda proba: proba[1], probas)\n",
    "conversion_df.head()"
   ]
  }
 ],
 "metadata": {
  "kernelspec": {
   "display_name": "Python 2",
   "language": "python",
   "name": "python2"
  },
  "language_info": {
   "codemirror_mode": {
    "name": "ipython",
    "version": 2
   },
   "file_extension": ".py",
   "mimetype": "text/x-python",
   "name": "python",
   "nbconvert_exporter": "python",
   "pygments_lexer": "ipython2",
   "version": "2.7.13"
  }
 },
 "nbformat": 4,
 "nbformat_minor": 2
}
