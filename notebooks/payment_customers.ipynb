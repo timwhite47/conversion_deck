{
 "cells": [
  {
   "cell_type": "code",
   "execution_count": 1,
   "metadata": {
    "collapsed": true
   },
   "outputs": [],
   "source": [
    "import os\n",
    "import sys\n",
    "from dateutil import parser\n",
    "from datetime import datetime\n",
    "module_path = os.path.abspath(os.path.join('..'))\n",
    "if module_path not in sys.path:\n",
    "    sys.path.append(module_path)"
   ]
  },
  {
   "cell_type": "code",
   "execution_count": 7,
   "metadata": {
    "collapsed": false
   },
   "outputs": [],
   "source": [
    "from src.db import psql_connection, PAYMENT_EVENT_TABLE\n",
    "from dateutil import parser\n",
    "conn = psql_connection()\n",
    "cursor = conn.cursor()"
   ]
  },
  {
   "cell_type": "code",
   "execution_count": 6,
   "metadata": {
    "collapsed": false
   },
   "outputs": [],
   "source": [
    "query = \"\"\"\n",
    "CREATE TABLE payment_events (\n",
    "    identifier varchar(255),\n",
    "    customer_id varchar(255),\n",
    "    type varchar(255),\n",
    "    time timestamp\n",
    ");\n",
    "\n",
    "CREATE UNIQUE INDEX payment_events_identifier_idx ON payment_events (identifier);\n",
    "\"\"\"\n",
    "cursor.execute(query)\n",
    "conn.commit()"
   ]
  },
  {
   "cell_type": "code",
   "execution_count": 10,
   "metadata": {
    "collapsed": true
   },
   "outputs": [],
   "source": [
    "event_obj = PAYMENT_EVENT_TABLE.get_item(Key={\"event_id\": 'evt_1ACB27KwYH5rb8TNJ6P73Ske'})['Item']"
   ]
  },
  {
   "cell_type": "code",
   "execution_count": 12,
   "metadata": {
    "collapsed": false
   },
   "outputs": [
    {
     "data": {
      "text/plain": [
       "{u'api_version': u'2015-04-07',\n",
       " u'created': Decimal('1493055091'),\n",
       " u'data': {u'object': {u'application_fee_percent': None,\n",
       "   u'cancel_at_period_end': True,\n",
       "   u'canceled_at': Decimal('1492879423'),\n",
       "   u'created': Decimal('1492450287'),\n",
       "   u'current_period_end': Decimal('1493055087'),\n",
       "   u'current_period_start': Decimal('1492450287'),\n",
       "   u'customer': u'cus_AUcxprwWkIorua',\n",
       "   u'discount': None,\n",
       "   u'ended_at': Decimal('1493055091'),\n",
       "   u'id': u'sub_AUcxX491gFojOh',\n",
       "   u'items': {u'data': [{u'created': Decimal('1492450288'),\n",
       "      u'id': u'si_1A9dhDKwYH5rb8TNrPrwl4tK',\n",
       "      u'object': u'subscription_item',\n",
       "      u'plan': {u'amount': Decimal('11988'),\n",
       "       u'created': Decimal('1482185313'),\n",
       "       u'currency': u'usd',\n",
       "       u'id': u'haiku_deck_pro_yearly_a_trial_7',\n",
       "       u'interval': u'year',\n",
       "       u'interval_count': Decimal('1'),\n",
       "       u'livemode': True,\n",
       "       u'metadata': {},\n",
       "       u'name': u'Pro Yearly - A - 7 Day Trial',\n",
       "       u'object': u'plan',\n",
       "       u'statement_descriptor': None,\n",
       "       u'trial_period_days': Decimal('7')},\n",
       "      u'quantity': Decimal('1')}],\n",
       "    u'has_more': False,\n",
       "    u'object': u'list',\n",
       "    u'total_count': Decimal('1'),\n",
       "    u'url': u'/v1/subscription_items?subscription=sub_AUcxX491gFojOh'},\n",
       "   u'livemode': True,\n",
       "   u'metadata': {},\n",
       "   u'object': u'subscription',\n",
       "   u'plan': {u'amount': Decimal('11988'),\n",
       "    u'created': Decimal('1482185313'),\n",
       "    u'currency': u'usd',\n",
       "    u'id': u'haiku_deck_pro_yearly_a_trial_7',\n",
       "    u'interval': u'year',\n",
       "    u'interval_count': Decimal('1'),\n",
       "    u'livemode': True,\n",
       "    u'metadata': {},\n",
       "    u'name': u'Pro Yearly - A - 7 Day Trial',\n",
       "    u'object': u'plan',\n",
       "    u'statement_descriptor': None,\n",
       "    u'trial_period_days': Decimal('7')},\n",
       "   u'quantity': Decimal('1'),\n",
       "   u'start': Decimal('1492450287'),\n",
       "   u'status': u'canceled',\n",
       "   u'tax_percent': None,\n",
       "   u'trial_end': Decimal('1493055087'),\n",
       "   u'trial_start': Decimal('1492450287')}},\n",
       " u'event_id': u'evt_1ACB27KwYH5rb8TNJ6P73Ske',\n",
       " u'id': u'evt_1ACB27KwYH5rb8TNJ6P73Ske',\n",
       " u'livemode': True,\n",
       " u'object': u'event',\n",
       " u'pending_webhooks': Decimal('0'),\n",
       " u'request': None,\n",
       " u'type': u'customer.subscription.deleted'}"
      ]
     },
     "execution_count": 12,
     "metadata": {},
     "output_type": "execute_result"
    }
   ],
   "source": [
    "event_obj"
   ]
  },
  {
   "cell_type": "code",
   "execution_count": 15,
   "metadata": {
    "collapsed": false
   },
   "outputs": [
    {
     "data": {
      "text/plain": [
       "{'customer_id': u'cus_AUcxprwWkIorua',\n",
       " 'identifier': u'evt_1ACB27KwYH5rb8TNJ6P73Ske',\n",
       " 'time': datetime.datetime(2017, 4, 24, 10, 31, 31),\n",
       " 'type': u'customer.subscription.deleted'}"
      ]
     },
     "execution_count": 15,
     "metadata": {},
     "output_type": "execute_result"
    }
   ],
   "source": [
    "def format_sql_payment_event(event):\n",
    "#     identifier varchar(255),\n",
    "#     customer_id varchar(255),\n",
    "#     type varchar(255),\n",
    "#     time timestamp\n",
    "    return {\n",
    "        \"identifier\": event['id'],\n",
    "        \"customer_id\": event['data']['object']['customer'],\n",
    "        \"type\": event['type'],\n",
    "        \"time\": datetime.fromtimestamp(event['created'])\n",
    "    }\n",
    "\n",
    "format_sql_payment_event(event_obj)"
   ]
  }
 ],
 "metadata": {
  "kernelspec": {
   "display_name": "Python 2",
   "language": "python",
   "name": "python2"
  },
  "language_info": {
   "codemirror_mode": {
    "name": "ipython",
    "version": 2
   },
   "file_extension": ".py",
   "mimetype": "text/x-python",
   "name": "python",
   "nbconvert_exporter": "python",
   "pygments_lexer": "ipython2",
   "version": "2.7.13"
  }
 },
 "nbformat": 4,
 "nbformat_minor": 2
}
