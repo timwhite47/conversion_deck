{
 "cells": [
  {
   "cell_type": "code",
   "execution_count": 1,
   "metadata": {
    "collapsed": false
   },
   "outputs": [],
   "source": [
    "import os\n",
    "import sys\n",
    "from dateutil import parser\n",
    "module_path = os.path.abspath(os.path.join('..'))\n",
    "if module_path not in sys.path:\n",
    "    sys.path.append(module_path)"
   ]
  },
  {
   "cell_type": "code",
   "execution_count": 2,
   "metadata": {
    "collapsed": false
   },
   "outputs": [],
   "source": [
    "from src.db import fetch_profiles, events_for_profile_ids, EVENTS_TABLE, PROFILES_TABLE"
   ]
  },
  {
   "cell_type": "markdown",
   "metadata": {},
   "source": [
    "# Example Data\n",
    "\n",
    "Data from our noSQL store (DynamoDB)"
   ]
  },
  {
   "cell_type": "code",
   "execution_count": 3,
   "metadata": {
    "collapsed": false,
    "scrolled": true
   },
   "outputs": [],
   "source": [
    "profile = PROFILES_TABLE.get_item(Key={\"$distinct_id\": '156148eb09715c-056eef5e2ee445-e313161-100200-156148eb09aa4'})"
   ]
  },
  {
   "cell_type": "code",
   "execution_count": 4,
   "metadata": {
    "collapsed": false,
    "scrolled": true
   },
   "outputs": [],
   "source": [
    "event = EVENTS_TABLE.get_item(Key={'event_id': '15cac3683c12b5-074efb05ef78e-1d401925-fa000-15cac3683c249e:1498113686'})"
   ]
  },
  {
   "cell_type": "markdown",
   "metadata": {},
   "source": [
    "# SQL\n",
    "\n",
    "Exploring creating tables and storing data in SQL instead of DynamoDB"
   ]
  },
  {
   "cell_type": "code",
   "execution_count": 1,
   "metadata": {
    "collapsed": false
   },
   "outputs": [],
   "source": [
    "import psycopg2\n",
    "from psycopg2.extensions import AsIs\n",
    "conn = psycopg2.connect(dbname='conversion_deck', host='localhost')"
   ]
  },
  {
   "cell_type": "code",
   "execution_count": 2,
   "metadata": {
    "collapsed": true
   },
   "outputs": [],
   "source": [
    "cur = conn.cursor()"
   ]
  },
  {
   "cell_type": "code",
   "execution_count": 3,
   "metadata": {
    "collapsed": false
   },
   "outputs": [],
   "source": [
    "query = '''\n",
    "        CREATE TABLE users (\n",
    "            distinct_id varchar(75), \n",
    "            camp_count int, \n",
    "            camp_deliveries int,\n",
    "            email varchar(255),\n",
    "            first_name varchar(50),\n",
    "            last_name varchar(50),\n",
    "            is_paying boolean,\n",
    "            is_registered boolean,\n",
    "            signup_at date,\n",
    "            vertical varchar(255),\n",
    "            country_code varchar(10),\n",
    "            subscription_type varchar(255)\n",
    "        );\n",
    "        \n",
    "        CREATE UNIQUE INDEX distinct_idx ON users (distinct_id);\n",
    "        '''\n",
    "cur.execute(query)"
   ]
  },
  {
   "cell_type": "code",
   "execution_count": 8,
   "metadata": {
    "collapsed": false,
    "scrolled": true
   },
   "outputs": [],
   "source": [
    "query = '''\n",
    "        CREATE TABLE events (\n",
    "            type varchar(255),\n",
    "            time timestamp,\n",
    "            distinct_id varchar(75),\n",
    "            event_id varchar(255)\n",
    "        );\n",
    "        \n",
    "        CREATE UNIQUE INDEX event_id_idx ON events (event_id);\n",
    "        '''\n",
    "cur.execute(query)"
   ]
  },
  {
   "cell_type": "code",
   "execution_count": 2,
   "metadata": {
    "collapsed": true
   },
   "outputs": [],
   "source": [
    "conn.commit()\n",
    "conn.close()"
   ]
  },
  {
   "cell_type": "markdown",
   "metadata": {},
   "source": [
    "### Formatting Data"
   ]
  },
  {
   "cell_type": "code",
   "execution_count": 9,
   "metadata": {
    "collapsed": false
   },
   "outputs": [],
   "source": [
    "from collections import defaultdict\n",
    "\n",
    "def format_sql_profile(profile):\n",
    "    properties = profile['$properties']\n",
    "    properties = defaultdict(str, properties)\n",
    "\n",
    "    signup_at = None\n",
    "    vertical = None\n",
    "    subscription_type = None\n",
    "    camp_count = 0\n",
    "    camp_deliveries = 0\n",
    "    is_paying = False\n",
    "    is_registered = False\n",
    "    \n",
    "    if 'signupDate' in properties:\n",
    "        signup_at = parser.parse(properties['signupDate'])\n",
    "        \n",
    "    if 'vertical' in properties:\n",
    "        vertical = properties['vertical']\n",
    "        \n",
    "    if 'subscriptionType' in properties:\n",
    "        subscription_type = properties['subscriptionType']\n",
    "        \n",
    "    if '$campaigns' in properties:\n",
    "        camp_count = len(properties['$campaigns'])\n",
    "        \n",
    "    if '$deliveries' in properties:\n",
    "        camp_deliveries = len(properties['$deliveries'])\n",
    "    \n",
    "    if 'isPaying' in properties:\n",
    "        is_paying = properties['isPaying']\n",
    "        \n",
    "    if 'isRegistered' in properties:\n",
    "        is_registered = properties['isRegistered']\n",
    "    \n",
    "    return {\n",
    "        \"distinct_id\": profile['$distinct_id'],\n",
    "        \"camp_count\": camp_count,\n",
    "        \"camp_deliveries\": camp_deliveries,\n",
    "        \"email\": properties['$email'],\n",
    "        \"first_name\": properties['$first_name'],\n",
    "        \"last_name\": properties['$last_name'],\n",
    "        \"is_paying\": is_paying,\n",
    "        'is_registered': is_registered,\n",
    "        'signup_at': signup_at,\n",
    "        'vertical': vertical,\n",
    "        'subscription_type': subscription_type,\n",
    "    }"
   ]
  },
  {
   "cell_type": "code",
   "execution_count": 49,
   "metadata": {
    "collapsed": false
   },
   "outputs": [],
   "source": [
    "from datetime import datetime\n",
    "\n",
    "def format_sql_event(event):\n",
    "    ts = None\n",
    "    \n",
    "    if 'time' in event['properties']:\n",
    "        ts = datetime.fromtimestamp(event['properties']['time'])\n",
    "    \n",
    "    return {\n",
    "        'type': event['event'],\n",
    "        'event_id': event['event_id'],\n",
    "        'distinct_id': event['profile_id'],\n",
    "        'time': ts   \n",
    "    }\n",
    "    "
   ]
  },
  {
   "cell_type": "code",
   "execution_count": 52,
   "metadata": {
    "collapsed": true
   },
   "outputs": [],
   "source": [
    "def insert_sql_event(cur, event):\n",
    "    data = format_sql_event(event)\n",
    "    columns = data.keys()\n",
    "    values = [data[column] for column in columns]\n",
    "    insert_statement = 'insert into events (%s) values %s'\n",
    "\n",
    "    return cur.execute(insert_statement, (AsIs(','.join(columns)), tuple(values)))"
   ]
  },
  {
   "cell_type": "code",
   "execution_count": 10,
   "metadata": {
    "collapsed": true
   },
   "outputs": [],
   "source": [
    "def insert_sql_profile(cur, profile):\n",
    "    data = format_sql_profile(profile)\n",
    "    columns = data.keys()\n",
    "    values = [data[column] for column in columns]\n",
    "    insert_statement = 'insert into users (%s) values %s'\n",
    "\n",
    "    return cur.execute(insert_statement, (AsIs(','.join(columns)), tuple(values)))"
   ]
  },
  {
   "cell_type": "code",
   "execution_count": 33,
   "metadata": {
    "collapsed": true
   },
   "outputs": [],
   "source": [
    "from sqlalchemy.exc import IntegrityError\n",
    "\n",
    "def import_sql_profiles(cursor):\n",
    "    for profile in fetch_profiles():\n",
    "        try:\n",
    "            insert_sql_profile(cursor, profile)\n",
    "        except IntegrityError:\n",
    "            # Duplicate key error\n",
    "            pass"
   ]
  },
  {
   "cell_type": "code",
   "execution_count": 64,
   "metadata": {
    "collapsed": false
   },
   "outputs": [
    {
     "data": {
      "text/html": [
       "<div>\n",
       "<style>\n",
       "    .dataframe thead tr:only-child th {\n",
       "        text-align: right;\n",
       "    }\n",
       "\n",
       "    .dataframe thead th {\n",
       "        text-align: left;\n",
       "    }\n",
       "\n",
       "    .dataframe tbody tr th {\n",
       "        vertical-align: top;\n",
       "    }\n",
       "</style>\n",
       "<table border=\"1\" class=\"dataframe\">\n",
       "  <thead>\n",
       "    <tr style=\"text-align: right;\">\n",
       "      <th></th>\n",
       "      <th>type</th>\n",
       "      <th>time</th>\n",
       "      <th>distinct_id</th>\n",
       "      <th>event_id</th>\n",
       "    </tr>\n",
       "  </thead>\n",
       "  <tbody>\n",
       "    <tr>\n",
       "      <th>0</th>\n",
       "      <td>Export PPT</td>\n",
       "      <td>2017-06-21 23:41:26</td>\n",
       "      <td>15cac3683c12b5-074efb05ef78e-1d401925-fa000-15...</td>\n",
       "      <td>15cac3683c12b5-074efb05ef78e-1d401925-fa000-15...</td>\n",
       "    </tr>\n",
       "  </tbody>\n",
       "</table>\n",
       "</div>"
      ],
      "text/plain": [
       "         type                time  \\\n",
       "0  Export PPT 2017-06-21 23:41:26   \n",
       "\n",
       "                                         distinct_id  \\\n",
       "0  15cac3683c12b5-074efb05ef78e-1d401925-fa000-15...   \n",
       "\n",
       "                                            event_id  \n",
       "0  15cac3683c12b5-074efb05ef78e-1d401925-fa000-15...  "
      ]
     },
     "execution_count": 64,
     "metadata": {},
     "output_type": "execute_result"
    }
   ],
   "source": [
    "import pandas as pd\n",
    "pd.read_sql_query('select * from events;', conn)"
   ]
  }
 ],
 "metadata": {
  "kernelspec": {
   "display_name": "Python 2",
   "language": "python",
   "name": "python2"
  },
  "language_info": {
   "codemirror_mode": {
    "name": "ipython",
    "version": 2
   },
   "file_extension": ".py",
   "mimetype": "text/x-python",
   "name": "python",
   "nbconvert_exporter": "python",
   "pygments_lexer": "ipython2",
   "version": "2.7.13"
  }
 },
 "nbformat": 4,
 "nbformat_minor": 2
}
