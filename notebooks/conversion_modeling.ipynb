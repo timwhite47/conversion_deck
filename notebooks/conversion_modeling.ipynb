{
 "cells": [
  {
   "cell_type": "code",
   "execution_count": 1,
   "metadata": {
    "collapsed": true
   },
   "outputs": [],
   "source": [
    "import os\n",
    "import sys\n",
    "module_path = os.path.abspath(os.path.join('..'))\n",
    "if module_path not in sys.path:\n",
    "    sys.path.append(module_path)"
   ]
  },
  {
   "cell_type": "code",
   "execution_count": 2,
   "metadata": {
    "collapsed": false
   },
   "outputs": [],
   "source": [
    "from src.modeling.conversion import ConversionClassifier, FEATURE_COLUMNS\n",
    "from src.modeling.queries import CONVERTED_AGE_QUERY, CONVERTED_EVENTS_QUERY\n",
    "clf = ConversionClassifier()\n",
    "clf.load_dataset()"
   ]
  },
  {
   "cell_type": "code",
   "execution_count": 16,
   "metadata": {
    "collapsed": false
   },
   "outputs": [],
   "source": [
    "converted_df = clf.df[clf.df['converted'] == True]"
   ]
  },
  {
   "cell_type": "code",
   "execution_count": 17,
   "metadata": {
    "collapsed": false
   },
   "outputs": [],
   "source": [
    "not_converted = clf.df[clf.df['converted'] == False].sample(len(converted_df))"
   ]
  },
  {
   "cell_type": "code",
   "execution_count": 23,
   "metadata": {
    "collapsed": false
   },
   "outputs": [],
   "source": [
    "import pandas as pd\n",
    "from sklearn.utils import shuffle\n",
    "\n",
    "df = pd.concat([converted_df,not_converted])\n",
    "df = shuffle(df)"
   ]
  },
  {
   "cell_type": "code",
   "execution_count": 26,
   "metadata": {
    "collapsed": false
   },
   "outputs": [
    {
     "name": "stdout",
     "output_type": "stream",
     "text": [
      "App Became Active\n",
      "Click Button\n",
      "Click Link\n",
      "Client error\n",
      "Countdown Pro Button\n",
      "Deck Created\n",
      "Display Limit Modal\n",
      "Display Limit Notification\n",
      "Display Video Editor Modal\n",
      "Display Welcome Countdown\n",
      "Display Zuru Upgrade Modal\n",
      "Download PPTX\n",
      "Downloaded Video\n",
      "Editor Opened\n",
      "Ended Onboarding\n",
      "Error on payment\n",
      "Error on payment (stripe)\n",
      "Error on payment (stripe, reporting to user)\n",
      "Export\n",
      "Export PPT\n",
      "Export PPTX\n",
      "Land on Checkout Page\n",
      "Land on Classroom Page\n",
      "Land on Education Page\n",
      "Land on Homepage\n",
      "Land on Pricing Page\n",
      "Land on Realtor Page\n",
      "Land on Zuru Page\n",
      "Limit Button\n",
      "Limit Modal Edu Button\n",
      "Limit Modal Pro Button\n",
      "New Deck\n",
      "Privacy\n",
      "Recorded Audio\n",
      "Set Privacy Public\n",
      "Set Privacy Restricted\n",
      "Share\n",
      "Sign In\n",
      "Sign Up\n",
      "Slide start\n",
      "Start\n",
      "Started Onboarding\n",
      "Successfully completed classroom upgrade\n",
      "Successfully completed edu signup\n",
      "Successfully completed edu upgrade\n",
      "Successfully completed pro signup\n",
      "Successfully completed pro upgrade\n",
      "Validation failed\n",
      "View player page\n",
      "Zuru Upgrade Edu Button\n",
      "Zuru Upgrade Pro Button\n",
      "cancel\n",
      "signin\n",
      "signup\n",
      "upgrade\n",
      "converted\n",
      "account_age\n",
      "vertical\n",
      "camp_deliveries\n"
     ]
    }
   ],
   "source": [
    "for col in clf.raw_df.columns:\n",
    "    print col"
   ]
  }
 ],
 "metadata": {
  "kernelspec": {
   "display_name": "Python 2",
   "language": "python",
   "name": "python2"
  },
  "language_info": {
   "codemirror_mode": {
    "name": "ipython",
    "version": 2
   },
   "file_extension": ".py",
   "mimetype": "text/x-python",
   "name": "python",
   "nbconvert_exporter": "python",
   "pygments_lexer": "ipython2",
   "version": "2.7.13"
  }
 },
 "nbformat": 4,
 "nbformat_minor": 2
}
