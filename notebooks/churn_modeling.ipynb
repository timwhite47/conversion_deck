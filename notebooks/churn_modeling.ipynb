{
 "cells": [
  {
   "cell_type": "code",
   "execution_count": 1,
   "metadata": {
    "collapsed": true
   },
   "outputs": [],
   "source": [
    "import os\n",
    "import sys\n",
    "module_path = os.path.abspath(os.path.join('..'))\n",
    "if module_path not in sys.path:\n",
    "    sys.path.append(module_path)"
   ]
  },
  {
   "cell_type": "code",
   "execution_count": 2,
   "metadata": {
    "collapsed": true
   },
   "outputs": [],
   "source": [
    "import pandas as pd\n",
    "from src.modeling.queries import CHURNED_AGE_QUERY, CHURNED_EVENT_QUERY\n",
    "from src.database.sql import psql_connection\n",
    "conn = psql_connection()"
   ]
  },
  {
   "cell_type": "code",
   "execution_count": 3,
   "metadata": {
    "collapsed": false
   },
   "outputs": [],
   "source": [
    "events_df = pd.read_sql_query(CHURNED_EVENT_QUERY, conn)\n",
    "\n",
    "events_df = events_df.pivot(index='distinct_id', columns='type', values='count')\n",
    "events_df = events_df.fillna(0)"
   ]
  },
  {
   "cell_type": "code",
   "execution_count": 35,
   "metadata": {
    "collapsed": false
   },
   "outputs": [],
   "source": [
    "age_df = pd.read_sql_query(CHURNED_AGE_QUERY, conn, index_col='distinct_id')\n",
    "vertical_dummies = pd.get_dummies(age_df['vertical'], prefix='vertical')\n",
    "age_df = pd.concat([age_df, vertical_dummies], axis=1)"
   ]
  },
  {
   "cell_type": "code",
   "execution_count": 36,
   "metadata": {
    "collapsed": false
   },
   "outputs": [],
   "source": [
    "df = events_df.join(age_df, how='inner')"
   ]
  },
  {
   "cell_type": "code",
   "execution_count": 46,
   "metadata": {
    "collapsed": false
   },
   "outputs": [],
   "source": [
    "from sklearn.ensemble import GradientBoostingClassifier\n",
    "from sklearn.model_selection import train_test_split\n",
    "\n",
    "train_df = df.copy()\n",
    "clf = GradientBoostingClassifier(\n",
    "    learning_rate=0.001,\n",
    "    n_estimators=2500,\n",
    "    max_depth=12,\n",
    "    max_features='sqrt',\n",
    ")\n",
    "y = train_df['churned'].values\n",
    "train_df.drop(['churned', 'vertical', 'cancel', 'Client error', 'Land on Homepage', 'Click Link'], axis=1, inplace=True)\n",
    "features = train_df.columns\n",
    "X = train_df.values"
   ]
  },
  {
   "cell_type": "code",
   "execution_count": 47,
   "metadata": {
    "collapsed": false
   },
   "outputs": [
    {
     "name": "stdout",
     "output_type": "stream",
     "text": [
      "Model Score: 0.929292929293\n",
      "Top Features:\n",
      "account_age \t 0.44 \n",
      "\n",
      "camp_deliveries \t 0.11 \n",
      "\n",
      "Slide start \t 0.061 \n",
      "\n",
      "Editor Opened \t 0.038 \n",
      "\n",
      "signin \t 0.035 \n",
      "\n",
      "Ended Onboarding \t 0.03 \n",
      "\n",
      "Deck Created \t 0.027 \n",
      "\n",
      "Started Onboarding \t 0.025 \n",
      "\n",
      "Sign In \t 0.024 \n",
      "\n",
      "vertical_educator \t 0.021 \n",
      "\n",
      "Export \t 0.021 \n",
      "\n",
      "Export PPT \t 0.02 \n",
      "\n",
      "View player page \t 0.014 \n",
      "\n",
      "Privacy \t 0.013 \n",
      "\n",
      "App Became Active \t 0.013 \n",
      "\n",
      "vertical_marketing \t 0.011 \n",
      "\n",
      "Share \t 0.0088 \n",
      "\n",
      "vertical_student \t 0.0084 \n",
      "\n",
      "Land on Pricing Page \t 0.0071 \n",
      "\n",
      "Land on Education Page \t 0.006 \n",
      "\n",
      "vertical_sales \t 0.0056 \n",
      "\n",
      "Land on Zuru Page \t 0.0051 \n",
      "\n",
      "vertical_other \t 0.0047 \n",
      "\n",
      "Set Privacy Public \t 0.0046 \n",
      "\n",
      "vertical_professional \t 0.0043 \n",
      "\n",
      "Land on Checkout Page \t 0.0043 \n",
      "\n",
      "vertical_coach \t 0.0039 \n",
      "\n",
      "Set Privacy Restricted \t 0.0038 \n",
      "\n",
      "Start \t 0.0035 \n",
      "\n",
      "Display Limit Notification \t 0.0028 \n",
      "\n",
      "vertical_real_estate \t 0.0028 \n",
      "\n",
      "Display Video Editor Modal \t 0.0027 \n",
      "\n",
      "Land on Classroom Page \t 0.0026 \n",
      "\n",
      "vertical_hr \t 0.0023 \n",
      "\n",
      "vertical_health \t 0.0022 \n",
      "\n",
      "New Deck \t 0.0019 \n",
      "\n",
      "vertical_small_business_owner \t 0.0016 \n",
      "\n",
      "Recorded Audio \t 0.0015 \n",
      "\n",
      "vertical_non-profit \t 0.0015 \n",
      "\n",
      "Click Button \t 0.0014 \n",
      "\n",
      "Export PPTX \t 0.0011 \n",
      "\n",
      "Display Welcome Countdown \t 0.0011 \n",
      "\n",
      "Download PPTX \t 0.00088 \n",
      "\n",
      "Downloaded Video \t 0.00052 \n",
      "\n",
      "vertical_lawyer \t 0.0003 \n",
      "\n",
      "upgrade \t 0.0003 \n",
      "\n",
      "signup \t 0.00029 \n",
      "\n",
      "Successfully completed edu signup \t 0.00027 \n",
      "\n",
      "Validation failed \t 0.00017 \n",
      "\n",
      "vertical_religious_organization \t 0.00016 \n",
      "\n",
      "Display Limit Modal \t 7.5e-05 \n",
      "\n",
      "Successfully completed pro signup \t 6.7e-05 \n",
      "\n",
      "Successfully completed edu upgrade \t 6e-05 \n",
      "\n",
      "Limit Button \t 5.8e-05 \n",
      "\n",
      "Sign Up \t 5.2e-05 \n",
      "\n",
      "Successfully completed pro upgrade \t 3.8e-05 \n",
      "\n",
      "Successfully completed classroom upgrade \t 3e-05 \n",
      "\n",
      "Error on payment \t 1.2e-05 \n",
      "\n",
      "Error on payment (stripe, reporting to user) \t 7.8e-06 \n",
      "\n"
     ]
    }
   ],
   "source": [
    "X_train, X_test, y_train, y_test = train_test_split(X, y)\n",
    "clf.fit(X_train, y_train)\n",
    "print \"Model Score: {}\".format(clf.score(X_test, y_test))\n",
    "print \"Top Features:\"\n",
    "\n",
    "for feature, importance in sorted(zip(features, clf.feature_importances_), key=lambda t: t[1], reverse=True):\n",
    "    print \"{} \\t {:.2} \\n\".format(feature, importance)\n",
    "    "
   ]
  },
  {
   "cell_type": "code",
   "execution_count": 9,
   "metadata": {
    "collapsed": true
   },
   "outputs": [],
   "source": [
    "import matplotlib.pyplot as plt\n",
    "% matplotlib inline"
   ]
  },
  {
   "cell_type": "code",
   "execution_count": 10,
   "metadata": {
    "collapsed": true
   },
   "outputs": [],
   "source": [
    "churned_df = df[df['churned'] == True]\n",
    "non_churned_df = df[df['churned'] == False]"
   ]
  },
  {
   "cell_type": "code",
   "execution_count": 43,
   "metadata": {
    "collapsed": false
   },
   "outputs": [],
   "source": [
    "def plot_metric_comparison(metric, churn_label='Churned', non_churn_label='Non-Churned', xlim=None, bins=None):\n",
    "    fig, ax = plt.subplots()\n",
    "    print churned_df[metric].describe()\n",
    "    ax.hist(churned_df[metric], bins=bins, label=churn_label)\n",
    "    print non_churned_df[metric].describe()\n",
    "    ax.hist(non_churned_df[metric], bins=bins, label=non_churn_label)\n",
    "    if xlim:\n",
    "        ax.set_xlim(xlim)\n",
    "    ax.legend()\n",
    "    plt.show()"
   ]
  },
  {
   "cell_type": "code",
   "execution_count": 44,
   "metadata": {
    "collapsed": false
   },
   "outputs": [
    {
     "name": "stdout",
     "output_type": "stream",
     "text": [
      "count    1664.000000\n",
      "mean       29.315505\n",
      "std        39.272988\n",
      "min         0.000000\n",
      "25%         7.000000\n",
      "50%         7.000000\n",
      "75%        38.000000\n",
      "max       250.000000\n",
      "Name: account_age, dtype: float64\n",
      "count    1502.000000\n",
      "mean      137.112517\n",
      "std        78.160344\n",
      "min         9.000000\n",
      "25%        72.000000\n",
      "50%       129.000000\n",
      "75%       205.000000\n",
      "max       275.000000\n",
      "Name: account_age, dtype: float64\n"
     ]
    },
    {
     "data": {
      "image/png": "[encoded data removed]",
      "text/plain": [
       "<matplotlib.figure.Figure at 0x1115c2690>"
      ]
     },
     "metadata": {},
     "output_type": "display_data"
    }
   ],
   "source": [
    "plot_metric_comparison('account_age', xlim=(0,250))"
   ]
  },
  {
   "cell_type": "code",
   "execution_count": 13,
   "metadata": {
    "collapsed": false
   },
   "outputs": [
    {
     "data": {
      "image/png": "[encoded data removed]",
      "text/plain": [
       "<matplotlib.figure.Figure at 0x11085a2d0>"
      ]
     },
     "metadata": {},
     "output_type": "display_data"
    }
   ],
   "source": [
    "plot_metric_comparison('camp_deliveries')"
   ]
  },
  {
   "cell_type": "code",
   "execution_count": 45,
   "metadata": {
    "collapsed": false
   },
   "outputs": [
    {
     "name": "stdout",
     "output_type": "stream",
     "text": [
      "count    1664.000000\n",
      "mean        1.256010\n",
      "std         4.755283\n",
      "min         0.000000\n",
      "25%         0.000000\n",
      "50%         0.000000\n",
      "75%         1.000000\n",
      "max       119.000000\n",
      "Name: Export PPT, dtype: float64\n",
      "count    1502.000000\n",
      "mean        3.768309\n",
      "std         9.574887\n",
      "min         0.000000\n",
      "25%         0.000000\n",
      "50%         1.000000\n",
      "75%         4.000000\n",
      "max       192.000000\n",
      "Name: Export PPT, dtype: float64\n"
     ]
    },
    {
     "data": {
      "image/png": "[encoded data removed]",
      "text/plain": [
       "<matplotlib.figure.Figure at 0x111ecf1d0>"
      ]
     },
     "metadata": {},
     "output_type": "display_data"
    }
   ],
   "source": [
    "plot_metric_comparison('Export PPT', xlim=(0,10), bins=100)"
   ]
  },
  {
   "cell_type": "code",
   "execution_count": 42,
   "metadata": {
    "collapsed": false
   },
   "outputs": [
    {
     "data": {
      "image/png": "[encoded data removed]",
      "text/plain": [
       "<matplotlib.figure.Figure at 0x111b14690>"
      ]
     },
     "metadata": {},
     "output_type": "display_data"
    }
   ],
   "source": [
    "plot_metric_comparison('Editor Opened')"
   ]
  }
 ],
 "metadata": {
  "kernelspec": {
   "display_name": "Python 2",
   "language": "python",
   "name": "python2"
  },
  "language_info": {
   "codemirror_mode": {
    "name": "ipython",
    "version": 2
   },
   "file_extension": ".py",
   "mimetype": "text/x-python",
   "name": "python",
   "nbconvert_exporter": "python",
   "pygments_lexer": "ipython2",
   "version": "2.7.13"
  }
 },
 "nbformat": 4,
 "nbformat_minor": 2
}
